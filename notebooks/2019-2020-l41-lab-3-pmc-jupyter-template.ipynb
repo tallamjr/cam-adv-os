{
 "cells": [
  {
   "cell_type": "markdown",
   "metadata": {},
   "source": [
    "# L41: Lab 3 - Micro-Architectural implications of IPC"
   ]
  },
  {
   "cell_type": "markdown",
   "metadata": {},
   "source": [
    "The goals of this lab are to:\n",
    "\n",
    "- Introduce hardware performance counters (hwpmc).\n",
    "- Explore micro-architectural implications of IPC.\n",
    "- Gather additional data to support the writing of your first assessed lab report.\n",
    "\n",
    "You will do this by applying PMC to analyse the behaviour of the same potted, kernel-intensive IPC benchmark used in the last lab."
   ]
  },
  {
   "cell_type": "markdown",
   "metadata": {},
   "source": [
    "## Running the benchmark"
   ]
  },
  {
   "cell_type": "markdown",
   "metadata": {},
   "source": [
    "As before, you can run the benchmark using the ipc-static and ipc-dynamic commands, specifying various benchmark parameters. When the new performance-counter argument is used, additional information will be printed about the processor-level behaviour of the IPC loop. Do ensure that, as in Lab 2, you have increased the kernel’s maximum socket-buffer size."
   ]
  },
  {
   "cell_type": "code",
   "execution_count": null,
   "metadata": {
    "collapsed": false
   },
   "outputs": [],
   "source": [
    "!sysctl kern.ipc.maxsockbuf=33554432"
   ]
  },
  {
   "cell_type": "markdown",
   "metadata": {},
   "source": [
    "### Example benchmark commands"
   ]
  },
  {
   "cell_type": "markdown",
   "metadata": {},
   "source": [
    "This command instructs the IPC benchmark to capture information on memory instructions issued when operating on a socket with a 512-byte buffer using two threads:"
   ]
  },
  {
   "cell_type": "code",
   "execution_count": null,
   "metadata": {
    "collapsed": false
   },
   "outputs": [],
   "source": [
    "# Example benchmark command\n",
    "print_header(\"Capturing info on memory instructions\")\n",
    "\n",
    "!ipc/ipc-static -vP mem -b 1048576 -i local 2thread\n",
    "\n",
    "print_footer(\"Completed\")"
   ]
  },
  {
   "cell_type": "markdown",
   "metadata": {},
   "source": [
    "How do requested memory accesses vary across our  benchmark configurations (IPC typez)? (With some careful processing the output of the IPC benchmark can be manipulated in Python, as shown below.)"
   ]
  },
  {
   "cell_type": "code",
   "execution_count": null,
   "metadata": {
    "collapsed": false
   },
   "outputs": [],
   "source": [
    "import re\n",
    "\n",
    "# Buffer sizes to compute the performance with\n",
    "# Note: Perprocess resource limits prevent very large buffers with -i socket -s\n",
    "BUFFER_SIZES = [512 * 2 ** exp for exp in range(0, 16)]\n",
    "\n",
    "# Number of trials for each buffer size\n",
    "NUM_TRIALS = 1\n",
    "\n",
    "ipc_pipe_mem_read_values = []\n",
    "ipc_pipe_mem_write_values = []\n",
    "\n",
    "ipc_socket_default_mem_read_values = []\n",
    "ipc_socket_default_mem_write_values = []\n",
    "\n",
    "ipc_socket_mem_read_values = []\n",
    "ipc_socket_mem_write_values = []\n",
    "\n",
    "print_header(\"Capturing info on memory instructions\")\n",
    "\n",
    "for buffer_size in BUFFER_SIZES:\n",
    "    print \"Measuring performance for buffer size = {} bytes (max = {}) \".format(buffer_size, BUFFER_SIZES[-1])\n",
    "    # -i pipe\n",
    "    output = !ipc/ipc-static -i pipe -b {str(buffer_size)} -P mem 2thread\n",
    "\n",
    "    # Convert the PMC output into JSON, to simplify post-processing\n",
    "    output_json = json.loads(re.sub(r'([a-zA-Z_/0-9.]+)', r'\"\\1\"',\n",
    "        \"{\" + ','.join(str(e) for e in output[:-2] if e) +\"}\"))\n",
    "\n",
    "    ipc_pipe_mem_read_values.append(output_json[\"MEM_READ\"])\n",
    "    ipc_pipe_mem_write_values.append(output_json[\"MEM_WRITE\"]) \n",
    "\n",
    "    # -i local\n",
    "    output = !ipc/ipc-static -i local -b {str(buffer_size)} -P mem 2thread\n",
    "\n",
    "    # Convert the PMC output into JSON, to simplify post-processing\n",
    "    output_json = json.loads(re.sub(r'([a-zA-Z_/0-9.]+)', r'\"\\1\"',\n",
    "        \"{\" + ','.join(str(e) for e in output[:-2] if e) +\"}\"))\n",
    "\n",
    "    ipc_socket_default_mem_read_values.append(output_json[\"MEM_READ\"])\n",
    "    ipc_socket_default_mem_write_values.append(output_json[\"MEM_WRITE\"]) \n",
    "\n",
    "    # -i local -s\n",
    "    output = !ipc/ipc-static -i local -s -b {str(buffer_size)} -P mem 2thread\n",
    "\n",
    "    # Convert the PMC output into JSON, to simplify post-processing\n",
    "    output_json = json.loads(re.sub(r'([a-zA-Z_/0-9.]+)', r'\"\\1\"',\n",
    "        \"{\" + ','.join(str(e) for e in output[:-2] if e) +\"}\"))\n",
    "\n",
    "    ipc_socket_mem_read_values.append(output_json[\"MEM_READ\"])\n",
    "    ipc_socket_mem_write_values.append(output_json[\"MEM_WRITE\"]) \n",
    "        \n",
    "print_footer(\"Completed\")"
   ]
  },
  {
   "cell_type": "code",
   "execution_count": null,
   "metadata": {
    "collapsed": false
   },
   "outputs": [],
   "source": [
    "%matplotlib inline\n",
    "\n",
    "# Reshape the list into arrays of size [len(BUFFER_SIZES), NUM_TRIALS]\n",
    "ipc_pipe_mem_read = np.reshape(ipc_pipe_mem_read_values, (len(BUFFER_SIZES), 1))[:,:]\n",
    "ipc_pipe_mem_write = np.reshape(ipc_pipe_mem_write_values, (len(BUFFER_SIZES), 1))[:,:]\n",
    "\n",
    "ipc_socket_default_mem_read = np.reshape(ipc_socket_default_mem_read_values, (len(BUFFER_SIZES), 1))[:,:]\n",
    "ipc_socket_default_mem_write = np.reshape(ipc_socket_default_mem_write_values, (len(BUFFER_SIZES), 1))[:,:]\n",
    "\n",
    "ipc_socket_mem_read = np.reshape(ipc_socket_mem_read_values, (len(BUFFER_SIZES), 1))[:,:]\n",
    "ipc_socket_mem_write = np.reshape(ipc_socket_mem_write_values, (len(BUFFER_SIZES), 1))[:,:]\n",
    "\n",
    "# Convert the array of io bandwidth values into a Panda DataFrame\n",
    "# this allows ploting of the median value and computation of the \n",
    "# error bars (25 and 75 percentile values)\n",
    "# Note: The error bars should be small indicating that the experiment is tightly controlled\n",
    "ipc_pipe_mem_read_df = pd.DataFrame(ipc_pipe_mem_read, index=BUFFER_SIZES)\n",
    "ipc_pipe_mem_write_df = pd.DataFrame(ipc_pipe_mem_write, index=BUFFER_SIZES)\n",
    "\n",
    "ipc_socket_default_mem_read_df = pd.DataFrame(ipc_socket_default_mem_read, index=BUFFER_SIZES)\n",
    "ipc_socket_default_mem_write_df = pd.DataFrame(ipc_socket_default_mem_write, index=BUFFER_SIZES)\n",
    "\n",
    "ipc_socket_mem_read_df = pd.DataFrame(ipc_socket_mem_read, index=BUFFER_SIZES)\n",
    "ipc_socket_mem_write_df = pd.DataFrame(ipc_socket_mem_write, index=BUFFER_SIZES)\n",
    "\n",
    "# Create and label the plot\n",
    "fig, read = plt.subplots(2, sharex=True)\n",
    "\n",
    "ipc_pipe_mem_read_df.median(1).plot(ax=read[0], figsize=(9,9), label=\"mem read\", color='b', legend=True)\n",
    "ipc_pipe_mem_write_df.median(1).plot(ax=read[0], figsize=(9,9),  label=\"mem write\", color='g', linestyle='--', legend=True)\n",
    "\n",
    "ipc_socket_default_mem_read_df.median(1).plot(ax=read[1], figsize=(9,9), label=\"mem read\", linestyle='solid', color='b', legend=True)\n",
    "ipc_socket_default_mem_write_df.median(1).plot(ax=read[1], figsize=(9,9), label=\"mem write\", color='g', linestyle='dashed', legend=True)\n",
    "\n",
    "ipc_socket_mem_read_df.median(1).plot(ax=read[1], figsize=(9,9), label=\"mem read -s\", color='r', linestyle='dashdot', legend=True)\n",
    "ipc_socket_mem_write_df.median(1).plot(ax=read[1], figsize=(9,9),  label=\"mem write -s\", color='c', linestyle='dotted', legend=True)\n",
    "\n",
    "read[0].set_title('ipc-static -i pipe 2thread')\n",
    "read[0].set_xlabel('Buffer size (Bytes)')\n",
    "read[0].set_ylabel('Count')\n",
    "read[0].set_xscale('log')\n",
    "# Plot a vertical line at 8KiB\n",
    "read[0].axvline(x=8*1024, color='r', linestyle='dotted')\n",
    "\n",
    "read[1].set_title('ipc-static -i socket 2thread')\n",
    "read[1].set_xlabel('Buffer size (Bytes)')\n",
    "read[1].set_ylabel('Count')\n",
    "read[1].set_xscale('log')\n",
    "\n",
    "# Display the plot and save it to a file\n",
    "# (this can take a while (~30 secs) on the BeagleBone Black)\n",
    "plt.savefig(\"ipc_static_socket_2thread_mem.pdf\")"
   ]
  }
 ],
 "metadata": {
  "kernelspec": {
   "display_name": "Python 2",
   "language": "python",
   "name": "python2"
  },
  "language_info": {
   "codemirror_mode": {
    "name": "ipython",
    "version": 2
   },
   "file_extension": ".py",
   "mimetype": "text/x-python",
   "name": "python",
   "nbconvert_exporter": "python",
   "pygments_lexer": "ipython2",
   "version": "2.7.12"
  }
 },
 "nbformat": 4,
 "nbformat_minor": 0
}
