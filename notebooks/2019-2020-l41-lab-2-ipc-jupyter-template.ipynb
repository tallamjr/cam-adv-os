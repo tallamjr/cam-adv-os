{
 "cells": [
  {
   "cell_type": "markdown",
   "metadata": {},
   "source": [
    "# L41: Lab 2 - Kernel implications of IPC"
   ]
  },
  {
   "cell_type": "markdown",
   "metadata": {},
   "source": [
    "The goals of this lab are to:\n",
    "    \n",
    "- Continue to gain experience tracing user-kernel interactions via system calls\n",
    "- Explore the performance of varying IPC models, buffer sizes, and process models\n",
    "- Gather data to support writing your first assessed lab report\n",
    "\n",
    "You will do this by using DTrace to analyse the behaviour of a potted, kernel-intensive IPC benchmark."
   ]
  },
  {
   "cell_type": "markdown",
   "metadata": {},
   "source": [
    "## IPC benchmark"
   ]
  },
  {
   "cell_type": "markdown",
   "metadata": {},
   "source": [
    "### Compiling the benchmark"
   ]
  },
  {
   "cell_type": "code",
   "execution_count": null,
   "metadata": {
    "collapsed": false
   },
   "outputs": [],
   "source": [
    "# Build the benchmark\n",
    "!make -C ipc"
   ]
  },
  {
   "cell_type": "markdown",
   "metadata": {},
   "source": [
    "### Running the benchmark"
   ]
  },
  {
   "cell_type": "markdown",
   "metadata": {},
   "source": [
    "Once built, you can run the benchmark binary as follows, with command-line arguments specifying various benchmark parameters:"
   ]
  },
  {
   "cell_type": "code",
   "execution_count": null,
   "metadata": {
    "collapsed": false
   },
   "outputs": [],
   "source": [
    "# Execute the ipc-static benchmark displaying the command line options\n",
    "!ipc/ipc-static"
   ]
  },
  {
   "cell_type": "markdown",
   "metadata": {},
   "source": [
    "### Example benchmark commands"
   ]
  },
  {
   "cell_type": "markdown",
   "metadata": {},
   "source": [
    "This command performs a simple IPC benchmark using a pipe and default userspace IPC buffer and total IPC sizes using two threads within a single process:"
   ]
  },
  {
   "cell_type": "code",
   "execution_count": null,
   "metadata": {
    "collapsed": false
   },
   "outputs": [],
   "source": [
    "# Example benchmark command\n",
    "print_header(\"Simple IPC benchmark using two threads within a single process\")\n",
    "\n",
    "!ipc/ipc-static -i pipe 2thread\n",
    "    \n",
    "print_footer(\"Completed\")"
   ]
  },
  {
   "cell_type": "markdown",
   "metadata": {},
   "source": [
    "How do the two basic modes of the benchmark compare in terms of IPC throughput: {pipe, socket}?"
   ]
  },
  {
   "cell_type": "code",
   "execution_count": null,
   "metadata": {
    "collapsed": false
   },
   "outputs": [],
   "source": [
    "# Example benchmark command\n",
    "print_header(\"IPC throughput: {pipe, socket}\")\n",
    "\n",
    "output_pipe_2thread = !ipc/ipc-static -i pipe 2thread\n",
    "output_local_2thread = !ipc/ipc-static -i local 2thread\n",
    "\n",
    "# Display comparison of the bandwidth for the benchmark withn {pipe, socket}\n",
    "print \"Bandwidth -i pipe 2thread = \" + output_pipe_2thread[0]\n",
    "print \"Bandwidth -i local 2thread = \" + output_local_2thread[0]\n",
    "\n",
    "print_footer(\"Completed\")"
   ]
  },
  {
   "cell_type": "markdown",
   "metadata": {},
   "source": [
    "How do distributions of `read()` and `write()` system-call return values vary from one another within one benchmark?"
   ]
  },
  {
   "cell_type": "code",
   "execution_count": null,
   "metadata": {
    "collapsed": false
   },
   "outputs": [],
   "source": [
    "# D Language script\n",
    "io_syscall_script = \"\"\"\n",
    "syscall::clock_gettime:return\n",
    "/execname == \"ipc-static\" && !self->ipc_loop/\n",
    "{\n",
    "    self->ipc_loop = 1;\n",
    "}\n",
    "\n",
    "syscall::clock_gettime:entry\n",
    "/self->ipc_loop/\n",
    "{\n",
    "    self->ipc_loop = 0;\n",
    "}\n",
    "\n",
    "syscall:::return\n",
    "/self->ipc_loop/\n",
    "{\n",
    "    @a[probefunc] = quantize(arg0);\n",
    "}\n",
    "\"\"\"\n",
    "\n",
    "# Callback invoked to process the aggregation\n",
    "from collections import defaultdict\n",
    "values = defaultdict(dict)\n",
    "\n",
    "def simple_out(a, b, c, d):\n",
    "    outer_key = c[0]\n",
    "    for kv in d:\n",
    "        inner_key = kv[0]\n",
    "        value = kv[1]\n",
    "        if value != 0:\n",
    "            values[outer_key][inner_key] = value\n",
    "\n",
    "# Create a seperate thread to run the DTrace instrumentation\n",
    "dtrace_thread = DTraceConsumerThread(io_syscall_script,\n",
    "                                    walk_func=simple_out,\n",
    "                                    sleep=1)\n",
    "\n",
    "# Start the DTrace instrumentation\n",
    "output = dtrace_thread.start()\n",
    "\n",
    "# Display header to indicate that the benchmarking has started\n",
    "print_header(\"Starting ipc-static benchmark using pipe PIC\")\n",
    "\n",
    "!ipc/ipc-static -B -q -i local 2thread\n",
    "        \n",
    "# The benchmark has completed - stop the DTrace instrumentation\n",
    "dtrace_thread.stop()\n",
    "dtrace_thread.join()\n",
    "dtrace_thread.consumer.__del__()    \n",
    "\n",
    "# read() AND WRITE() RETURN CODE DISTRIBUTION\n",
    "print(\"read() return code distribution {}\".format(values['read']))\n",
    "print(\"write() return code distribution {}\".format(values['write']))\n",
    "\n",
    "# Display footer to indicate that the benchmarking has finished\n",
    "print_footer(\"Finished ipc-static benchmark\")"
   ]
  }
 ],
 "metadata": {
  "kernelspec": {
   "display_name": "Python 2",
   "language": "python",
   "name": "python2"
  },
  "language_info": {
   "codemirror_mode": {
    "name": "ipython",
    "version": 2
   },
   "file_extension": ".py",
   "mimetype": "text/x-python",
   "name": "python",
   "nbconvert_exporter": "python",
   "pygments_lexer": "ipython2",
   "version": "2.7.12"
  }
 },
 "nbformat": 4,
 "nbformat_minor": 0
}
